{
 "cells": [
  {
   "cell_type": "markdown",
   "metadata": {
    "id": "-9HTUtWZoAKd"
   },
   "source": [
    "# Adaboost"
   ]
  },
  {
   "cell_type": "code",
   "execution_count": 10,
   "metadata": {
    "colab": {
     "base_uri": "https://localhost:8080/",
     "height": 1000
    },
    "id": "X64B9zhMlqZj",
    "outputId": "34df0b01-a4b4-4a7b-9120-0261c4abfd7d"
   },
   "outputs": [
    {
     "name": "stdout",
     "output_type": "stream",
     "text": [
      "Total parameter combinations: 18\n",
      "\n",
      "Combination 1/18 at 09:21:22\n",
      "Parameters: {'algorithm': 'SAMME', 'learning_rate': 0.1, 'n_estimators': 50}\n",
      "Training Score: 0.9023\n",
      "Test Score: 0.9023\n",
      "Iteration Time: 00:00:35\n",
      "New best score: 0.9023\n",
      "\n",
      "Combination 2/18 at 09:21:57\n",
      "Parameters: {'algorithm': 'SAMME', 'learning_rate': 0.1, 'n_estimators': 100}\n",
      "Training Score: 0.9047\n",
      "Test Score: 0.9029\n",
      "Iteration Time: 00:01:11\n",
      "New best score: 0.9029\n",
      "\n",
      "Combination 3/18 at 09:23:09\n",
      "Parameters: {'algorithm': 'SAMME', 'learning_rate': 0.1, 'n_estimators': 200}\n",
      "Training Score: 0.9034\n",
      "Test Score: 0.9017\n",
      "Iteration Time: 00:02:22\n",
      "\n",
      "Combination 4/18 at 09:25:31\n",
      "Parameters: {'algorithm': 'SAMME', 'learning_rate': 0.5, 'n_estimators': 50}\n",
      "Training Score: 0.9103\n",
      "Test Score: 0.9067\n",
      "Iteration Time: 00:00:33\n",
      "New best score: 0.9067\n",
      "\n",
      "Combination 5/18 at 09:26:05\n",
      "Parameters: {'algorithm': 'SAMME', 'learning_rate': 0.5, 'n_estimators': 100}\n",
      "Training Score: 0.9297\n",
      "Test Score: 0.9268\n",
      "Iteration Time: 00:01:07\n",
      "New best score: 0.9268\n",
      "\n",
      "Combination 6/18 at 09:27:12\n",
      "Parameters: {'algorithm': 'SAMME', 'learning_rate': 0.5, 'n_estimators': 200}\n",
      "Training Score: 0.9417\n",
      "Test Score: 0.9380\n",
      "Iteration Time: 00:02:15\n",
      "New best score: 0.9380\n",
      "\n",
      "Combination 7/18 at 09:29:28\n",
      "Parameters: {'algorithm': 'SAMME', 'learning_rate': 1.0, 'n_estimators': 50}\n",
      "Training Score: 0.9347\n",
      "Test Score: 0.9302\n",
      "Iteration Time: 00:00:33\n",
      "\n",
      "Combination 8/18 at 09:30:01\n",
      "Parameters: {'algorithm': 'SAMME', 'learning_rate': 1.0, 'n_estimators': 100}\n",
      "Training Score: 0.9466\n",
      "Test Score: 0.9409\n",
      "Iteration Time: 00:01:07\n",
      "New best score: 0.9409\n",
      "\n",
      "Combination 9/18 at 09:31:09\n",
      "Parameters: {'algorithm': 'SAMME', 'learning_rate': 1.0, 'n_estimators': 200}\n",
      "Training Score: 0.9556\n",
      "Test Score: 0.9488\n",
      "Iteration Time: 00:02:16\n",
      "New best score: 0.9488\n",
      "\n",
      "Combination 10/18 at 09:33:25\n",
      "Parameters: {'algorithm': 'SAMME.R', 'learning_rate': 0.1, 'n_estimators': 50}\n"
     ]
    },
    {
     "name": "stderr",
     "output_type": "stream",
     "text": [
      "/usr/local/lib/python3.10/dist-packages/sklearn/ensemble/_weight_boosting.py:527: FutureWarning: The SAMME.R algorithm (the default) is deprecated and will be removed in 1.6. Use the SAMME algorithm to circumvent this warning.\n",
      "  warnings.warn(\n"
     ]
    },
    {
     "name": "stdout",
     "output_type": "stream",
     "text": [
      "Training Score: 0.9037\n",
      "Test Score: 0.9027\n",
      "Iteration Time: 00:00:35\n",
      "\n",
      "Combination 11/18 at 09:34:00\n",
      "Parameters: {'algorithm': 'SAMME.R', 'learning_rate': 0.1, 'n_estimators': 100}\n"
     ]
    },
    {
     "name": "stderr",
     "output_type": "stream",
     "text": [
      "/usr/local/lib/python3.10/dist-packages/sklearn/ensemble/_weight_boosting.py:527: FutureWarning: The SAMME.R algorithm (the default) is deprecated and will be removed in 1.6. Use the SAMME algorithm to circumvent this warning.\n",
      "  warnings.warn(\n"
     ]
    },
    {
     "name": "stdout",
     "output_type": "stream",
     "text": [
      "Training Score: 0.9167\n",
      "Test Score: 0.9149\n",
      "Iteration Time: 00:01:09\n",
      "\n",
      "Combination 12/18 at 09:35:09\n",
      "Parameters: {'algorithm': 'SAMME.R', 'learning_rate': 0.1, 'n_estimators': 200}\n"
     ]
    },
    {
     "name": "stderr",
     "output_type": "stream",
     "text": [
      "/usr/local/lib/python3.10/dist-packages/sklearn/ensemble/_weight_boosting.py:527: FutureWarning: The SAMME.R algorithm (the default) is deprecated and will be removed in 1.6. Use the SAMME algorithm to circumvent this warning.\n",
      "  warnings.warn(\n"
     ]
    },
    {
     "name": "stdout",
     "output_type": "stream",
     "text": [
      "Training Score: 0.9327\n",
      "Test Score: 0.9288\n",
      "Iteration Time: 00:02:15\n",
      "\n",
      "Combination 13/18 at 09:37:24\n",
      "Parameters: {'algorithm': 'SAMME.R', 'learning_rate': 0.5, 'n_estimators': 50}\n"
     ]
    },
    {
     "name": "stderr",
     "output_type": "stream",
     "text": [
      "/usr/local/lib/python3.10/dist-packages/sklearn/ensemble/_weight_boosting.py:527: FutureWarning: The SAMME.R algorithm (the default) is deprecated and will be removed in 1.6. Use the SAMME algorithm to circumvent this warning.\n",
      "  warnings.warn(\n"
     ]
    },
    {
     "name": "stdout",
     "output_type": "stream",
     "text": [
      "Training Score: 0.9383\n",
      "Test Score: 0.9336\n",
      "Iteration Time: 00:00:34\n",
      "\n",
      "Combination 14/18 at 09:37:59\n",
      "Parameters: {'algorithm': 'SAMME.R', 'learning_rate': 0.5, 'n_estimators': 100}\n"
     ]
    },
    {
     "name": "stderr",
     "output_type": "stream",
     "text": [
      "/usr/local/lib/python3.10/dist-packages/sklearn/ensemble/_weight_boosting.py:527: FutureWarning: The SAMME.R algorithm (the default) is deprecated and will be removed in 1.6. Use the SAMME algorithm to circumvent this warning.\n",
      "  warnings.warn(\n"
     ]
    },
    {
     "name": "stdout",
     "output_type": "stream",
     "text": [
      "Training Score: 0.9524\n",
      "Test Score: 0.9487\n",
      "Iteration Time: 00:01:07\n",
      "\n",
      "Combination 15/18 at 09:39:06\n",
      "Parameters: {'algorithm': 'SAMME.R', 'learning_rate': 0.5, 'n_estimators': 200}\n"
     ]
    },
    {
     "name": "stderr",
     "output_type": "stream",
     "text": [
      "/usr/local/lib/python3.10/dist-packages/sklearn/ensemble/_weight_boosting.py:527: FutureWarning: The SAMME.R algorithm (the default) is deprecated and will be removed in 1.6. Use the SAMME algorithm to circumvent this warning.\n",
      "  warnings.warn(\n"
     ]
    },
    {
     "name": "stdout",
     "output_type": "stream",
     "text": [
      "Training Score: 0.9610\n",
      "Test Score: 0.9570\n",
      "Iteration Time: 00:02:14\n",
      "New best score: 0.9570\n",
      "\n",
      "Combination 16/18 at 09:41:21\n",
      "Parameters: {'algorithm': 'SAMME.R', 'learning_rate': 1.0, 'n_estimators': 50}\n"
     ]
    },
    {
     "name": "stderr",
     "output_type": "stream",
     "text": [
      "/usr/local/lib/python3.10/dist-packages/sklearn/ensemble/_weight_boosting.py:527: FutureWarning: The SAMME.R algorithm (the default) is deprecated and will be removed in 1.6. Use the SAMME algorithm to circumvent this warning.\n",
      "  warnings.warn(\n"
     ]
    },
    {
     "name": "stdout",
     "output_type": "stream",
     "text": [
      "Training Score: 0.9495\n",
      "Test Score: 0.9463\n",
      "Iteration Time: 00:00:33\n",
      "\n",
      "Combination 17/18 at 09:41:55\n",
      "Parameters: {'algorithm': 'SAMME.R', 'learning_rate': 1.0, 'n_estimators': 100}\n"
     ]
    },
    {
     "name": "stderr",
     "output_type": "stream",
     "text": [
      "/usr/local/lib/python3.10/dist-packages/sklearn/ensemble/_weight_boosting.py:527: FutureWarning: The SAMME.R algorithm (the default) is deprecated and will be removed in 1.6. Use the SAMME algorithm to circumvent this warning.\n",
      "  warnings.warn(\n"
     ]
    },
    {
     "name": "stdout",
     "output_type": "stream",
     "text": [
      "Training Score: 0.9589\n",
      "Test Score: 0.9555\n",
      "Iteration Time: 00:01:07\n",
      "\n",
      "Combination 18/18 at 09:43:03\n",
      "Parameters: {'algorithm': 'SAMME.R', 'learning_rate': 1.0, 'n_estimators': 200}\n"
     ]
    },
    {
     "name": "stderr",
     "output_type": "stream",
     "text": [
      "/usr/local/lib/python3.10/dist-packages/sklearn/ensemble/_weight_boosting.py:527: FutureWarning: The SAMME.R algorithm (the default) is deprecated and will be removed in 1.6. Use the SAMME algorithm to circumvent this warning.\n",
      "  warnings.warn(\n"
     ]
    },
    {
     "name": "stdout",
     "output_type": "stream",
     "text": [
      "Training Score: 0.9646\n",
      "Test Score: 0.9596\n",
      "Iteration Time: 00:02:15\n",
      "New best score: 0.9596\n",
      "\n",
      "==================================================\n",
      "Grid Search Completed!\n",
      "Total Time: 00:23:56\n",
      "Best Parameters: {'algorithm': 'SAMME.R', 'learning_rate': 1.0, 'n_estimators': 200}\n",
      "Best Training Score: 0.9646\n",
      "Best Test Score: 0.9596\n",
      "\n",
      "Starting fine-tuning phase...\n",
      "\n",
      "Fine-tuning combination 1/9\n"
     ]
    },
    {
     "name": "stderr",
     "output_type": "stream",
     "text": [
      "/usr/local/lib/python3.10/dist-packages/sklearn/ensemble/_weight_boosting.py:527: FutureWarning: The SAMME.R algorithm (the default) is deprecated and will be removed in 1.6. Use the SAMME algorithm to circumvent this warning.\n",
      "  warnings.warn(\n"
     ]
    },
    {
     "name": "stdout",
     "output_type": "stream",
     "text": [
      "\n",
      "Fine-tuning combination 2/9\n"
     ]
    },
    {
     "name": "stderr",
     "output_type": "stream",
     "text": [
      "/usr/local/lib/python3.10/dist-packages/sklearn/ensemble/_weight_boosting.py:527: FutureWarning: The SAMME.R algorithm (the default) is deprecated and will be removed in 1.6. Use the SAMME algorithm to circumvent this warning.\n",
      "  warnings.warn(\n"
     ]
    },
    {
     "name": "stdout",
     "output_type": "stream",
     "text": [
      "\n",
      "Fine-tuning combination 3/9\n"
     ]
    },
    {
     "name": "stderr",
     "output_type": "stream",
     "text": [
      "/usr/local/lib/python3.10/dist-packages/sklearn/ensemble/_weight_boosting.py:527: FutureWarning: The SAMME.R algorithm (the default) is deprecated and will be removed in 1.6. Use the SAMME algorithm to circumvent this warning.\n",
      "  warnings.warn(\n"
     ]
    },
    {
     "name": "stdout",
     "output_type": "stream",
     "text": [
      "\n",
      "Fine-tuning combination 4/9\n"
     ]
    },
    {
     "name": "stderr",
     "output_type": "stream",
     "text": [
      "/usr/local/lib/python3.10/dist-packages/sklearn/ensemble/_weight_boosting.py:527: FutureWarning: The SAMME.R algorithm (the default) is deprecated and will be removed in 1.6. Use the SAMME algorithm to circumvent this warning.\n",
      "  warnings.warn(\n"
     ]
    },
    {
     "name": "stdout",
     "output_type": "stream",
     "text": [
      "\n",
      "Fine-tuning combination 5/9\n"
     ]
    },
    {
     "name": "stderr",
     "output_type": "stream",
     "text": [
      "/usr/local/lib/python3.10/dist-packages/sklearn/ensemble/_weight_boosting.py:527: FutureWarning: The SAMME.R algorithm (the default) is deprecated and will be removed in 1.6. Use the SAMME algorithm to circumvent this warning.\n",
      "  warnings.warn(\n"
     ]
    },
    {
     "name": "stdout",
     "output_type": "stream",
     "text": [
      "\n",
      "Fine-tuning combination 6/9\n"
     ]
    },
    {
     "name": "stderr",
     "output_type": "stream",
     "text": [
      "/usr/local/lib/python3.10/dist-packages/sklearn/ensemble/_weight_boosting.py:527: FutureWarning: The SAMME.R algorithm (the default) is deprecated and will be removed in 1.6. Use the SAMME algorithm to circumvent this warning.\n",
      "  warnings.warn(\n"
     ]
    },
    {
     "name": "stdout",
     "output_type": "stream",
     "text": [
      "New best score: 0.9611\n",
      "\n",
      "Fine-tuning combination 7/9\n"
     ]
    },
    {
     "name": "stderr",
     "output_type": "stream",
     "text": [
      "/usr/local/lib/python3.10/dist-packages/sklearn/ensemble/_weight_boosting.py:527: FutureWarning: The SAMME.R algorithm (the default) is deprecated and will be removed in 1.6. Use the SAMME algorithm to circumvent this warning.\n",
      "  warnings.warn(\n"
     ]
    },
    {
     "name": "stdout",
     "output_type": "stream",
     "text": [
      "\n",
      "Fine-tuning combination 8/9\n"
     ]
    },
    {
     "name": "stderr",
     "output_type": "stream",
     "text": [
      "/usr/local/lib/python3.10/dist-packages/sklearn/ensemble/_weight_boosting.py:527: FutureWarning: The SAMME.R algorithm (the default) is deprecated and will be removed in 1.6. Use the SAMME algorithm to circumvent this warning.\n",
      "  warnings.warn(\n"
     ]
    },
    {
     "name": "stdout",
     "output_type": "stream",
     "text": [
      "\n",
      "Fine-tuning combination 9/9\n"
     ]
    },
    {
     "name": "stderr",
     "output_type": "stream",
     "text": [
      "/usr/local/lib/python3.10/dist-packages/sklearn/ensemble/_weight_boosting.py:527: FutureWarning: The SAMME.R algorithm (the default) is deprecated and will be removed in 1.6. Use the SAMME algorithm to circumvent this warning.\n",
      "  warnings.warn(\n"
     ]
    },
    {
     "name": "stdout",
     "output_type": "stream",
     "text": [
      "\n",
      "==================================================\n",
      "Fine-tuning Completed!\n",
      "Final Best Parameters: {'algorithm': 'SAMME.R', 'learning_rate': 1.0, 'n_estimators': 250}\n",
      "Final Best Score: 0.9611\n",
      "\n",
      "Accuracy: 0.9611\n",
      "\n",
      "Classification Report:\n",
      "              precision    recall  f1-score   support\n",
      "\n",
      "         0.0       0.97      0.98      0.98     16179\n",
      "         1.0       0.83      0.76      0.79      1751\n",
      "\n",
      "    accuracy                           0.96     17930\n",
      "   macro avg       0.90      0.87      0.89     17930\n",
      "weighted avg       0.96      0.96      0.96     17930\n",
      "\n"
     ]
    },
    {
     "data": {
      "image/png": "[encoded data removed]",
      "text/plain": [
       "<Figure size 1000x800 with 2 Axes>"
      ]
     },
     "metadata": {},
     "output_type": "display_data"
    }
   ],
   "source": [
    "import cudf\n",
    "import cuml\n",
    "from cuml.preprocessing import StandardScaler\n",
    "from cuml.model_selection import train_test_split\n",
    "from cuml.ensemble import RandomForestClassifier as cuRF\n",
    "from sklearn.ensemble import AdaBoostClassifier\n",
    "from sklearn.model_selection import ParameterGrid\n",
    "import numpy as np\n",
    "import time\n",
    "import joblib\n",
    "\n",
    "# Convert pandas DataFrame to cuDF\n",
    "df_gpu = cudf.DataFrame(df)\n",
    "X = df_gpu.drop('label', axis=1)\n",
    "y = df_gpu['label']\n",
    "\n",
    "# Convert data to float32 for better GPU performance\n",
    "X = X.astype('float32')\n",
    "y = y.astype('float32')\n",
    "\n",
    "# Split the data\n",
    "X_train, X_test, y_train, y_test = train_test_split(\n",
    "    X, y, test_size=0.2, random_state=42, stratify=y\n",
    ")\n",
    "\n",
    "# Scale the data using GPU\n",
    "scaler = StandardScaler()\n",
    "X_train_scaled = scaler.fit_transform(X_train)\n",
    "X_test_scaled = scaler.transform(X_test)\n",
    "\n",
    "# Convert GPU data to CPU for AdaBoost (as it's not available in cuML)\n",
    "X_train_cpu = X_train_scaled.values.get()\n",
    "X_test_cpu = X_test_scaled.values.get()\n",
    "y_train_cpu = y_train.values.get()\n",
    "y_test_cpu = y_test.values.get()\n",
    "\n",
    "# Define parameter grid for AdaBoost\n",
    "param_grid = {\n",
    "    'n_estimators': [50, 100, 200],\n",
    "    'learning_rate': [0.1, 0.5, 1.0],\n",
    "    'algorithm': ['SAMME', 'SAMME.R']\n",
    "}\n",
    "\n",
    "# Calculate total combinations\n",
    "total_combinations = len([p for p in ParameterGrid(param_grid)])\n",
    "print(f\"Total parameter combinations: {total_combinations}\")\n",
    "\n",
    "# Initialize variables\n",
    "best_score = 0\n",
    "best_params = None\n",
    "best_model = None\n",
    "\n",
    "# Function to format time\n",
    "def format_time(seconds):\n",
    "    hours = int(seconds // 3600)\n",
    "    minutes = int((seconds % 3600) // 60)\n",
    "    seconds = int(seconds % 60)\n",
    "    return f\"{hours:02d}:{minutes:02d}:{seconds:02d}\"\n",
    "\n",
    "# Grid search with progress tracking\n",
    "start_time = time.time()\n",
    "for i, params in enumerate(ParameterGrid(param_grid), 1):\n",
    "    iteration_start = time.time()\n",
    "    current_time = time.strftime('%H:%M:%S')\n",
    "\n",
    "    print(f\"\\nCombination {i}/{total_combinations} at {current_time}\")\n",
    "    print(f\"Parameters: {params}\")\n",
    "\n",
    "    model = AdaBoostClassifier(\n",
    "        random_state=42,\n",
    "        **params\n",
    "    )\n",
    "\n",
    "    model.fit(X_train_cpu, y_train_cpu)\n",
    "    train_score = model.score(X_train_cpu, y_train_cpu)\n",
    "    test_score = model.score(X_test_cpu, y_test_cpu)\n",
    "\n",
    "    iteration_time = time.time() - iteration_start\n",
    "\n",
    "    print(f\"Training Score: {train_score:.4f}\")\n",
    "    print(f\"Test Score: {test_score:.4f}\")\n",
    "    print(f\"Iteration Time: {format_time(iteration_time)}\")\n",
    "\n",
    "    if test_score > best_score:\n",
    "        best_score = test_score\n",
    "        best_params = params\n",
    "        best_model = model\n",
    "        print(f\"New best score: {best_score:.4f}\")\n",
    "\n",
    "# Print final results\n",
    "total_time = time.time() - start_time\n",
    "print(\"\\n\" + \"=\"*50)\n",
    "print(\"Grid Search Completed!\")\n",
    "print(f\"Total Time: {format_time(total_time)}\")\n",
    "print(f\"Best Parameters: {best_params}\")\n",
    "print(f\"Best Training Score: {best_model.score(X_train_cpu, y_train_cpu):.4f}\")\n",
    "print(f\"Best Test Score: {best_score:.4f}\")\n",
    "\n",
    "# Save the best model\n",
    "joblib.dump(best_model, 'ADA_GPU.pkl')\n",
    "\n",
    "# Fine-tuning phase\n",
    "print(\"\\nStarting fine-tuning phase...\")\n",
    "\n",
    "# Create fine-tuning grid based on best parameters\n",
    "fine_tune_grid = {\n",
    "    'n_estimators': [best_params['n_estimators'] - 50,\n",
    "                     best_params['n_estimators'],\n",
    "                     best_params['n_estimators'] + 50],\n",
    "    'learning_rate': [best_params['learning_rate'] * 0.5,\n",
    "                     best_params['learning_rate'],\n",
    "                     best_params['learning_rate'] * 1.5],\n",
    "    'algorithm': [best_params['algorithm']]\n",
    "}\n",
    "\n",
    "# Fine-tuning search\n",
    "for i, params in enumerate(ParameterGrid(fine_tune_grid), 1):\n",
    "    iteration_start = time.time()\n",
    "    print(f\"\\nFine-tuning combination {i}/{len(list(ParameterGrid(fine_tune_grid)))}\")\n",
    "\n",
    "    model = AdaBoostClassifier(\n",
    "        random_state=42,\n",
    "        **params\n",
    "    )\n",
    "\n",
    "    model.fit(X_train_cpu, y_train_cpu)\n",
    "    test_score = model.score(X_test_cpu, y_test_cpu)\n",
    "\n",
    "    if test_score > best_score:\n",
    "        best_score = test_score\n",
    "        best_params = params\n",
    "        best_model = model\n",
    "        print(f\"New best score: {best_score:.4f}\")\n",
    "\n",
    "# Print final results\n",
    "print(\"\\n\" + \"=\"*50)\n",
    "print(\"Fine-tuning Completed!\")\n",
    "print(f\"Final Best Parameters: {best_params}\")\n",
    "print(f\"Final Best Score: {best_score:.4f}\")\n",
    "\n",
    "# Save the final model\n",
    "joblib.dump(best_model, 'ADA_GPU_final.pkl')\n",
    "\n",
    "# Get predictions and evaluate\n",
    "y_pred = best_model.predict(X_test_cpu)\n",
    "\n",
    "# Print evaluation metrics\n",
    "from sklearn.metrics import accuracy_score, classification_report, confusion_matrix\n",
    "import matplotlib.pyplot as plt\n",
    "import seaborn as sns\n",
    "\n",
    "# Calculate and print accuracy\n",
    "accuracy = accuracy_score(y_test_cpu, y_pred)\n",
    "print(f\"\\nAccuracy: {accuracy:.4f}\")\n",
    "\n",
    "# Print detailed classification report\n",
    "print(\"\\nClassification Report:\")\n",
    "print(classification_report(y_test_cpu, y_pred))\n",
    "\n",
    "# Create and plot confusion matrix\n",
    "plt.figure(figsize=(10, 8))\n",
    "cm = confusion_matrix(y_test_cpu, y_pred)\n",
    "sns.heatmap(cm, annot=True, fmt='d', cmap='Blues')\n",
    "plt.title('Confusion Matrix')\n",
    "plt.ylabel('True Label')\n",
    "plt.xlabel('Predicted Label')\n",
    "plt.show()"
   ]
  }
 ],
 "metadata": {
  "accelerator": "GPU",
  "colab": {
   "gpuType": "T4",
   "provenance": []
  },
  "kernelspec": {
   "display_name": "Python 3 (ipykernel)",
   "language": "python",
   "name": "python3"
  },
  "language_info": {
   "codemirror_mode": {
    "name": "ipython",
    "version": 3
   },
   "file_extension": ".py",
   "mimetype": "text/x-python",
   "name": "python",
   "nbconvert_exporter": "python",
   "pygments_lexer": "ipython3",
   "version": "3.9.7"
  }
 },
 "nbformat": 4,
 "nbformat_minor": 4
}
